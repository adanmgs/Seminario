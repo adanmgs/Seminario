{
  "nbformat": 4,
  "nbformat_minor": 0,
  "metadata": {
    "colab": {
      "name": "MProyecto.ipynb",
      "provenance": [],
      "collapsed_sections": [],
      "toc_visible": true,
      "include_colab_link": true
    },
    "kernelspec": {
      "name": "python3",
      "display_name": "Python 3"
    }
  },
  "cells": [
    {
      "cell_type": "markdown",
      "metadata": {
        "id": "view-in-github",
        "colab_type": "text"
      },
      "source": [
        "<a href=\"https://colab.research.google.com/github/adanmgs/Seminario/blob/master/MProyecto.ipynb\" target=\"_parent\"><img src=\"https://colab.research.google.com/assets/colab-badge.svg\" alt=\"Open In Colab\"/></a>"
      ]
    },
    {
      "cell_type": "markdown",
      "metadata": {
        "id": "vvmoeV_ZqgWe",
        "colab_type": "text"
      },
      "source": [
        "# Seminario de Profesionalización en Ciencia de Datos"
      ]
    },
    {
      "cell_type": "markdown",
      "metadata": {
        "id": "qjeX_Zitvc-E",
        "colab_type": "text"
      },
      "source": [
        "**Carga de información y de librerías**"
      ]
    },
    {
      "cell_type": "code",
      "metadata": {
        "id": "WN7b92UZp1L5",
        "colab_type": "code",
        "colab": {
          "base_uri": "https://localhost:8080/",
          "height": 125
        },
        "outputId": "b277e0f6-2c4f-4bde-c28a-995305b8eb6b"
      },
      "source": [
        "try:\n",
        "    !rm -rf Seminario\n",
        "except:\n",
        "    print(\"No existe la ruta aún\")\n",
        "\n",
        "!git clone \"https://github.com/adanmgs/Seminario\""
      ],
      "execution_count": 18,
      "outputs": [
        {
          "output_type": "stream",
          "text": [
            "Cloning into 'Seminario'...\n",
            "remote: Enumerating objects: 51, done.\u001b[K\n",
            "remote: Counting objects: 100% (51/51), done.\u001b[K\n",
            "remote: Compressing objects: 100% (43/43), done.\u001b[K\n",
            "remote: Total 51 (delta 6), reused 0 (delta 0), pack-reused 0\u001b[K\n",
            "Unpacking objects: 100% (51/51), done.\n"
          ],
          "name": "stdout"
        }
      ]
    },
    {
      "cell_type": "code",
      "metadata": {
        "id": "corpEtE7v5zj",
        "colab_type": "code",
        "colab": {}
      },
      "source": [
        "#Cargar módulo de R en Python\n",
        "import numpy as np\n",
        "import pandas as pd\n",
        "import warnings\n",
        "warnings.filterwarnings('ignore')\n",
        "\n",
        "# Load in the r magic\n",
        "%reload_ext rpy2.ipython\n",
        "%config IPCompleter.greedy=True\n",
        "%config InlineBackend.figure_format = 'retina'\n"
      ],
      "execution_count": 0,
      "outputs": []
    },
    {
      "cell_type": "code",
      "metadata": {
        "id": "6C9B5xfOwblU",
        "colab_type": "code",
        "colab": {}
      },
      "source": [
        "\n",
        "\n",
        "%%R\n",
        "#Instalamos las bibliotecas que utilizaremos\n",
        "install.packages(\"MPDiR\")    # Donde estan los datos Chromatic\n",
        "install.packages(\"dplyr\")    # Para manipulación de datos\n",
        "install.packages(\"ggplot2\")  # Para poder gráficar\n",
        "install.packages(\"lattice\")  # Para poder graficar xyplot y condicionados\n",
        "install.packages(\"readxl\")   # Para abrir archivos en excel\n",
        "install.packages(\"MASS\")     # Para hacer regresiones de tipo binomial negativa\n",
        "install.packages(\"caret\")\n",
        "install.packages(\"caret\")    # Permite evaluar los modelos de regresion\n",
        "install.packages(\"plotly\")   # Para hacer gráficos dinámicos\n",
        "install.packages(\"mlbench\")  # Permite obtener los datos de Sonar\n",
        "install.packages(\"e1071\")    # Solucion error caret\n",
        "install.packages(\"caTools\")  # Permite calcular el score AUC de la Curva ROC\n",
        "install.packages(\"matlib\")\n",
        "install.packages(\"aod\")\n",
        "install.packages(\"sampling\")\n",
        "install.packages(\"psych\")\n",
        "install.packages(\"boot\")\n",
        "install.packages(\"GGally\")\n",
        "\n"
      ],
      "execution_count": 0,
      "outputs": []
    },
    {
      "cell_type": "code",
      "metadata": {
        "id": "HONPZAwoxKdD",
        "colab_type": "code",
        "colab": {}
      },
      "source": [
        "%%R\n",
        "library(MPDiR)    # Donde estan los datos Chromatic\n",
        "library(dplyr)    # Para manipulación de datos\n",
        "library(ggplot2)  # Para poder gráficar\n",
        "library(lattice)  # Para poder graficar xyplot y condicionados\n",
        "library(readxl)   # Para abrir archivos en excel\n",
        "library(MASS)     # Para hacer regresiones de tipo binomial negativa\n",
        "library(caret)\n",
        "library(caret)    # Permite evaluar los modelos de regresion\n",
        "library(plotly)   # Para hacer gráficos dinámicos\n",
        "library(mlbench)  # Permite obtener los datos de Sonar\n",
        "library(e1071)    # Solucion error caret\n",
        "library(caTools)  # Permite calcular el score AUC de la Curva ROC\n",
        "library(matlib)\n",
        "library(aod)\n",
        "library(sampling)\n",
        "library(psych)\n",
        "library(boot)\n",
        "library(GGally)\n",
        "\n",
        "#  Muestreo\n",
        "\n",
        "install.packages(\"splitstackshape\")\n",
        "library(splitstackshape)\n"
      ],
      "execution_count": 0,
      "outputs": []
    },
    {
      "cell_type": "code",
      "metadata": {
        "id": "ccmzW0UHxPGl",
        "colab_type": "code",
        "colab": {
          "base_uri": "https://localhost:8080/",
          "height": 217
        },
        "outputId": "528f06cf-caf5-4254-cda3-05a4c77c4600"
      },
      "source": [
        "%%R\n",
        "datax<-read.csv('/content/Seminario/data/interrupcion-legal-del-embarazo.csv')\n",
        "str(datax)\n",
        "summary(datax)\n",
        "\n",
        "# quien sabe que pase al querer hacer plot\n",
        "plot(datax)\n",
        "\n",
        "# Se genera un modelo en base a las columnas\n",
        "# EDAD, SEMEMB, NHIJOS, NABORTO, NPARTOS\n",
        "modelo<-lm(ventas~.,data = data)\n",
        "summary(modelo)\n",
        "\n"
      ],
      "execution_count": 16,
      "outputs": [
        {
          "output_type": "display_data",
          "data": {
            "text/plain": [
              "'data.frame':\t9084 obs. of  1 variable:\n",
              " $ AÑO.MES.CVE_HOSPITAL.FINGRESO.AUTOREF.EDOCIVIL_DESCRIPCION.EDAD.DESC_DERECHOHAB.NIVEL_EDU.OCUPACION.RELIGION.PARENTESCO.ENTIDAD.ALC.O.MUNICIPIO.MENARCA.FSEXUAL.FMENSTRUA.SEMEMB.NHIJOS.GESTA.NABORTO.NPARTOS.NCESAREA.NILE.CONSEJERIA.ANTICONCEPTIVO.C_NUM.MOTILES.H_FINGRESO.DESC_SERVICIO.P_SEMGEST.P_DIASGESTA.P_CONSENT.PROCILE.S_COMPLICA.PANTICONCEP: Factor w/ 9084 levels \"2019;Abril;1;02/04/19;NA;casada;29;NA;preparatoria completa;Empleada;católica;NA;Ciudad de México;Iztapalapa;12\"| __truncated__,..: 1487 1492 1491 1496 1494 1506 1516 1520 1525 1522 ...\n",
              "                                                                                                                   AÑO.MES.CVE_HOSPITAL.FINGRESO.AUTOREF.EDOCIVIL_DESCRIPCION.EDAD.DESC_DERECHOHAB.NIVEL_EDU.OCUPACION.RELIGION.PARENTESCO.ENTIDAD.ALC.O.MUNICIPIO.MENARCA.FSEXUAL.FMENSTRUA.SEMEMB.NHIJOS.GESTA.NABORTO.NPARTOS.NCESAREA.NILE.CONSEJERIA.ANTICONCEPTIVO.C_NUM.MOTILES.H_FINGRESO.DESC_SERVICIO.P_SEMGEST.P_DIASGESTA.P_CONSENT.PROCILE.S_COMPLICA.PANTICONCEP\n",
              " 2019;Abril;1;02/04/19;NA;casada;29;NA;preparatoria completa;Empleada;católica;NA;Ciudad de México;Iztapalapa;12;15;12/02/19;7;1;3;1;1;0;0;Sí;Ninguno;1;interrupción voluntaria;NA;ILE;7;4;NA;Mifepristona 200 mg + Misoprostol 800 mcg;NA;NA                                                    :   1                                                                                                                                                                        \n",
              " 2019;Abril;1;02/04/19;NA;soltera;17;NA;secundaria completa;Estudiante;católica;Madre;Estado de México;Teotihuacán;11;15;14/02/19;7;0;1;0;0;0;0;Sí;Anticoncepcion de Emergencia;2;interrupción voluntaria;NA;ILE;4;4;NA;Mifepristona 200 mg + Misoprostol 800 mcg;NA;condón + implante subdermico:   1                                                                                                                                                                        \n",
              " 2019;Abril;1;02/04/19;NA;soltera;18;NA;secundaria completa;Desempleada;católica;NA;Ciudad de México;Benito Juárez;12;15;16/12/18;11;0;1;0;0;0;0;Sí;Anticoncepcion de Emergencia;1;interrupción voluntaria;NA;ILE;11;NA;NA;Mifepristona 200 mg + Misoprostol 800 mcg;NA;NA                       :   1                                                                                                                                                                        \n",
              " 2019;Abril;1;02/04/19;NA;soltera;19;NA;secundaria completa;Ama de Casa;católica;NA;Ciudad de México;Iztapalapa;15;16;28/01/19;9;1;2;0;0;1;0;Sí;Ninguno;2;interrupción voluntaria;NA;ILE;10;6;NA;Mifepristona 200 mg + Misoprostol 800 mcg;NA;condón + implante subdermico                       :   1                                                                                                                                                                        \n",
              " 2019;Abril;1;02/04/19;NA;soltera;24;NA;secundaria completa;Empleada;católica;NA;Estado de México;Ixtapaluca;12;15;29/01/19;8;3;4;0;2;1;0;Sí;Ninguno;1;interrupción voluntaria;NA;ILE;9;4;NA;Mifepristona 200 mg + Misoprostol 800 mcg;NA;NA                                                     :   1                                                                                                                                                                        \n",
              " 2019;Abril;1;02/04/19;NA;soltera;27;NA;preparatoria incompleta;Ama de Casa;NA;NA;Ciudad de México;Tláhuac;11;18;31/01/19;8;1;2;0;0;1;0;Sí;Ninguno;2;interrupción voluntaria;NA;ILE;8;4;NA;Mifepristona 200 mg + Misoprostol 800 mcg;NA;NA                                                       :   1                                                                                                                                                                        \n",
              " (Other)                                                                                                                                                                                                                                                                                         :9078                                                                                                                                                                        \n"
            ]
          },
          "metadata": {
            "tags": []
          }
        }
      ]
    }
  ]
}