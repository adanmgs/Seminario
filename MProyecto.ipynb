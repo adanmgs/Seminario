{
  "nbformat": 4,
  "nbformat_minor": 0,
  "metadata": {
    "colab": {
      "name": "MProyecto.ipynb",
      "provenance": [],
      "collapsed_sections": [],
      "toc_visible": true,
      "include_colab_link": true
    },
    "kernelspec": {
      "name": "python3",
      "display_name": "Python 3"
    }
  },
  "cells": [
    {
      "cell_type": "markdown",
      "metadata": {
        "id": "view-in-github",
        "colab_type": "text"
      },
      "source": [
        "<a href=\"https://colab.research.google.com/github/adanmgs/Seminario/blob/master/MProyecto.ipynb\" target=\"_parent\"><img src=\"https://colab.research.google.com/assets/colab-badge.svg\" alt=\"Open In Colab\"/></a>"
      ]
    },
    {
      "cell_type": "markdown",
      "metadata": {
        "id": "vvmoeV_ZqgWe",
        "colab_type": "text"
      },
      "source": [
        "# Seminario de Profesionalización en Ciencia de Datos"
      ]
    },
    {
      "cell_type": "markdown",
      "metadata": {
        "id": "qjeX_Zitvc-E",
        "colab_type": "text"
      },
      "source": [
        "**Carga de información y de librerías**"
      ]
    },
    {
      "cell_type": "code",
      "metadata": {
        "id": "WN7b92UZp1L5",
        "colab_type": "code",
        "colab": {
          "base_uri": "https://localhost:8080/",
          "height": 125
        },
        "outputId": "b277e0f6-2c4f-4bde-c28a-995305b8eb6b"
      },
      "source": [
        "try:\n",
        "    !rm -rf Seminario\n",
        "except:\n",
        "    print(\"No existe la ruta aún\")\n",
        "\n",
        "!git clone \"https://github.com/adanmgs/Seminario\""
      ],
      "execution_count": 18,
      "outputs": [
        {
          "output_type": "stream",
          "text": [
            "Cloning into 'Seminario'...\n",
            "remote: Enumerating objects: 51, done.\u001b[K\n",
            "remote: Counting objects: 100% (51/51), done.\u001b[K\n",
            "remote: Compressing objects: 100% (43/43), done.\u001b[K\n",
            "remote: Total 51 (delta 6), reused 0 (delta 0), pack-reused 0\u001b[K\n",
            "Unpacking objects: 100% (51/51), done.\n"
          ],
          "name": "stdout"
        }
      ]
    },
    {
      "cell_type": "code",
      "metadata": {
        "id": "corpEtE7v5zj",
        "colab_type": "code",
        "colab": {}
      },
      "source": [
        "#Cargar módulo de R en Python\n",
        "import numpy as np\n",
        "import pandas as pd\n",
        "import warnings\n",
        "warnings.filterwarnings('ignore')\n",
        "\n",
        "# Load in the r magic\n",
        "%reload_ext rpy2.ipython\n",
        "%config IPCompleter.greedy=True\n",
        "%config InlineBackend.figure_format = 'retina'\n"
      ],
      "execution_count": 0,
      "outputs": []
    },
    {
      "cell_type": "code",
      "metadata": {
        "id": "6C9B5xfOwblU",
        "colab_type": "code",
        "colab": {}
      },
      "source": [
        "\n",
        "\n",
        "%%R\n",
        "#Instalamos las bibliotecas que utilizaremos\n",
        "install.packages(\"MPDiR\")    # Donde estan los datos Chromatic\n",
        "install.packages(\"dplyr\")    # Para manipulación de datos\n",
        "install.packages(\"ggplot2\")  # Para poder gráficar\n",
        "install.packages(\"lattice\")  # Para poder graficar xyplot y condicionados\n",
        "install.packages(\"readxl\")   # Para abrir archivos en excel\n",
        "install.packages(\"MASS\")     # Para hacer regresiones de tipo binomial negativa\n",
        "install.packages(\"caret\")\n",
        "install.packages(\"caret\")    # Permite evaluar los modelos de regresion\n",
        "install.packages(\"plotly\")   # Para hacer gráficos dinámicos\n",
        "install.packages(\"mlbench\")  # Permite obtener los datos de Sonar\n",
        "install.packages(\"e1071\")    # Solucion error caret\n",
        "install.packages(\"caTools\")  # Permite calcular el score AUC de la Curva ROC\n",
        "install.packages(\"matlib\")\n",
        "install.packages(\"aod\")\n",
        "install.packages(\"sampling\")\n",
        "install.packages(\"psych\")\n",
        "install.packages(\"boot\")\n",
        "install.packages(\"GGally\")\n",
        "\n"
      ],
      "execution_count": 0,
      "outputs": []
    },
    {
      "cell_type": "code",
      "metadata": {
        "id": "HONPZAwoxKdD",
        "colab_type": "code",
        "colab": {}
      },
      "source": [
        "%%R\n",
        "library(MPDiR)    # Donde estan los datos Chromatic\n",
        "library(dplyr)    # Para manipulación de datos\n",
        "library(ggplot2)  # Para poder gráficar\n",
        "library(lattice)  # Para poder graficar xyplot y condicionados\n",
        "library(readxl)   # Para abrir archivos en excel\n",
        "library(MASS)     # Para hacer regresiones de tipo binomial negativa\n",
        "library(caret)\n",
        "library(caret)    # Permite evaluar los modelos de regresion\n",
        "library(plotly)   # Para hacer gráficos dinámicos\n",
        "library(mlbench)  # Permite obtener los datos de Sonar\n",
        "library(e1071)    # Solucion error caret\n",
        "library(caTools)  # Permite calcular el score AUC de la Curva ROC\n",
        "library(matlib)\n",
        "library(aod)\n",
        "library(sampling)\n",
        "library(psych)\n",
        "library(boot)\n",
        "library(GGally)\n",
        "\n",
        "#  Muestreo\n",
        "\n",
        "install.packages(\"splitstackshape\")\n",
        "library(splitstackshape)\n"
      ],
      "execution_count": 0,
      "outputs": []
    },
    {
      "cell_type": "code",
      "metadata": {
        "id": "ccmzW0UHxPGl",
        "colab_type": "code",
        "colab": {
          "base_uri": "https://localhost:8080/",
          "height": 217
        },
        "outputId": "5f97b9ba-caea-49ea-f503-89f26a4650cd"
      },
      "source": [
        "%%R\n",
        "# Leo los datos del archivo\n",
        "datax<-read.csv('/content/Seminario/data/interrupcion-legal-del-embarazo.csv')\n",
        "str(datax)\n",
        "summary(datax)\n",
        "\n"
      ],
      "execution_count": 23,
      "outputs": [
        {
          "output_type": "display_data",
          "data": {
            "text/plain": [
              "'data.frame':\t9084 obs. of  1 variable:\n",
              " $ CVE_HOSPITAL.FINGRESO.EDOCIVIL_DESCRIPCION.EDAD.MENARCA.FSEXUAL.SEMEMB.NHIJOS.GESTA.NABORTO.NPARTOS.NCESAREA.NILE.C_NUM: Factor w/ 9078 levels \"1;01/02/19;soltera;18;12;15;10;0;1;0;0;0;0;2\",..: 1603 1623 1622 1666 1664 1707 1726 1751 1812 1809 ...\n",
              " CVE_HOSPITAL.FINGRESO.EDOCIVIL_DESCRIPCION.EDAD.MENARCA.FSEXUAL.SEMEMB.NHIJOS.GESTA.NABORTO.NPARTOS.NCESAREA.NILE.C_NUM\n",
              " 2;06/03/19;soltera;27;12;17;4;0;1;0;0;0;0;3    :   2                                                                   \n",
              " 4;12/03/19;soltera;28;16;17;12;2;3;0;2;0;0;1   :   2                                                                   \n",
              " 4;17/05/19;soltera;26;13;17;6;0;1;0;0;0;0;2    :   2                                                                   \n",
              " 4;24/04/19;soltera;29;;;7;;;;;;NA;1            :   2                                                                   \n",
              " 4;24/04/19;unión libre;20;;;8;;;;;;NA;1        :   2                                                                   \n",
              " 5;06/06/19;unión libre;27;11;15;12;;4;0;2;1;0;1:   2                                                                   \n",
              " (Other)                                        :9072                                                                   \n"
            ]
          },
          "metadata": {
            "tags": []
          }
        }
      ]
    }
  ]
}