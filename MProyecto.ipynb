{
  "nbformat": 4,
  "nbformat_minor": 0,
  "metadata": {
    "colab": {
      "name": "MProyecto.ipynb",
      "provenance": [],
      "toc_visible": true,
      "include_colab_link": true
    },
    "kernelspec": {
      "name": "python3",
      "display_name": "Python 3"
    }
  },
  "cells": [
    {
      "cell_type": "markdown",
      "metadata": {
        "id": "view-in-github",
        "colab_type": "text"
      },
      "source": [
        "<a href=\"https://colab.research.google.com/github/adanmgs/Seminario/blob/master/MProyecto.ipynb\" target=\"_parent\"><img src=\"https://colab.research.google.com/assets/colab-badge.svg\" alt=\"Open In Colab\"/></a>"
      ]
    },
    {
      "cell_type": "markdown",
      "metadata": {
        "id": "vvmoeV_ZqgWe",
        "colab_type": "text"
      },
      "source": [
        "# Seminario de Profesionalización en Ciencia de Datos"
      ]
    },
    {
      "cell_type": "code",
      "metadata": {
        "id": "WN7b92UZp1L5",
        "colab_type": "code",
        "colab": {}
      },
      "source": [
        "try:\n",
        "    !rm -rf CursoDF\n",
        "except:\n",
        "    print(\"No existe la ruta aún\")\n",
        "\n",
        "!git clone \"https://github.com/adanmgs/Seminario\""
      ],
      "execution_count": 0,
      "outputs": []
    }
  ]
}