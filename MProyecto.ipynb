{
  "nbformat": 4,
  "nbformat_minor": 0,
  "metadata": {
    "colab": {
      "name": "MProyecto.ipynb",
      "provenance": [],
      "collapsed_sections": [],
      "toc_visible": true,
      "include_colab_link": true
    },
    "kernelspec": {
      "name": "python3",
      "display_name": "Python 3"
    }
  },
  "cells": [
    {
      "cell_type": "markdown",
      "metadata": {
        "id": "view-in-github",
        "colab_type": "text"
      },
      "source": [
        "<a href=\"https://colab.research.google.com/github/adanmgs/Seminario/blob/master/MProyecto.ipynb\" target=\"_parent\"><img src=\"https://colab.research.google.com/assets/colab-badge.svg\" alt=\"Open In Colab\"/></a>"
      ]
    },
    {
      "cell_type": "markdown",
      "metadata": {
        "id": "vvmoeV_ZqgWe",
        "colab_type": "text"
      },
      "source": [
        "# Seminario de Profesionalización en Ciencia de Datos"
      ]
    },
    {
      "cell_type": "markdown",
      "metadata": {
        "id": "qjeX_Zitvc-E",
        "colab_type": "text"
      },
      "source": [
        "**Carga de información y de librerías**"
      ]
    },
    {
      "cell_type": "code",
      "metadata": {
        "id": "WN7b92UZp1L5",
        "colab_type": "code",
        "colab": {
          "base_uri": "https://localhost:8080/",
          "height": 125
        },
        "outputId": "30bab727-c81b-4d44-9974-ad6f8ac420f4"
      },
      "source": [
        "try:\n",
        "    !rm -rf Seminario\n",
        "except:\n",
        "    print(\"No existe la ruta aún\")\n",
        "\n",
        "!git clone \"https://github.com/adanmgs/Seminario\""
      ],
      "execution_count": 3,
      "outputs": [
        {
          "output_type": "stream",
          "text": [
            "Cloning into 'Seminario'...\n",
            "remote: Enumerating objects: 60, done.\u001b[K\n",
            "remote: Counting objects:   1% (1/60)\u001b[K\rremote: Counting objects:   3% (2/60)\u001b[K\rremote: Counting objects:   5% (3/60)\u001b[K\rremote: Counting objects:   6% (4/60)\u001b[K\rremote: Counting objects:   8% (5/60)\u001b[K\rremote: Counting objects:  10% (6/60)\u001b[K\rremote: Counting objects:  11% (7/60)\u001b[K\rremote: Counting objects:  13% (8/60)\u001b[K\rremote: Counting objects:  15% (9/60)\u001b[K\rremote: Counting objects:  16% (10/60)\u001b[K\rremote: Counting objects:  18% (11/60)\u001b[K\rremote: Counting objects:  20% (12/60)\u001b[K\rremote: Counting objects:  21% (13/60)\u001b[K\rremote: Counting objects:  23% (14/60)\u001b[K\rremote: Counting objects:  25% (15/60)\u001b[K\rremote: Counting objects:  26% (16/60)\u001b[K\rremote: Counting objects:  28% (17/60)\u001b[K\rremote: Counting objects:  30% (18/60)\u001b[K\rremote: Counting objects:  31% (19/60)\u001b[K\rremote: Counting objects:  33% (20/60)\u001b[K\rremote: Counting objects:  35% (21/60)\u001b[K\rremote: Counting objects:  36% (22/60)\u001b[K\rremote: Counting objects:  38% (23/60)\u001b[K\rremote: Counting objects:  40% (24/60)\u001b[K\rremote: Counting objects:  41% (25/60)\u001b[K\rremote: Counting objects:  43% (26/60)\u001b[K\rremote: Counting objects:  45% (27/60)\u001b[K\rremote: Counting objects:  46% (28/60)\u001b[K\rremote: Counting objects:  48% (29/60)\u001b[K\rremote: Counting objects:  50% (30/60)\u001b[K\rremote: Counting objects:  51% (31/60)\u001b[K\rremote: Counting objects:  53% (32/60)\u001b[K\rremote: Counting objects:  55% (33/60)\u001b[K\rremote: Counting objects:  56% (34/60)\u001b[K\rremote: Counting objects:  58% (35/60)\u001b[K\rremote: Counting objects:  60% (36/60)\u001b[K\rremote: Counting objects:  61% (37/60)\u001b[K\rremote: Counting objects:  63% (38/60)\u001b[K\rremote: Counting objects:  65% (39/60)\u001b[K\rremote: Counting objects:  66% (40/60)\u001b[K\rremote: Counting objects:  68% (41/60)\u001b[K\rremote: Counting objects:  70% (42/60)\u001b[K\rremote: Counting objects:  71% (43/60)\u001b[K\rremote: Counting objects:  73% (44/60)\u001b[K\rremote: Counting objects:  75% (45/60)\u001b[K\rremote: Counting objects:  76% (46/60)\u001b[K\rremote: Counting objects:  78% (47/60)\u001b[K\rremote: Counting objects:  80% (48/60)\u001b[K\rremote: Counting objects:  81% (49/60)\u001b[K\rremote: Counting objects:  83% (50/60)\u001b[K\rremote: Counting objects:  85% (51/60)\u001b[K\rremote: Counting objects:  86% (52/60)\u001b[K\rremote: Counting objects:  88% (53/60)\u001b[K\rremote: Counting objects:  90% (54/60)\u001b[K\rremote: Counting objects:  91% (55/60)\u001b[K\rremote: Counting objects:  93% (56/60)\u001b[K\rremote: Counting objects:  95% (57/60)\u001b[K\rremote: Counting objects:  96% (58/60)\u001b[K\rremote: Counting objects:  98% (59/60)\u001b[K\rremote: Counting objects: 100% (60/60)\u001b[K\rremote: Counting objects: 100% (60/60), done.\u001b[K\n",
            "remote: Compressing objects: 100% (52/52), done.\u001b[K\n",
            "remote: Total 60 (delta 9), reused 0 (delta 0), pack-reused 0\u001b[K\n",
            "Unpacking objects: 100% (60/60), done.\n"
          ],
          "name": "stdout"
        }
      ]
    },
    {
      "cell_type": "code",
      "metadata": {
        "id": "corpEtE7v5zj",
        "colab_type": "code",
        "colab": {}
      },
      "source": [
        "#Cargar módulo de R en Python\n",
        "import numpy as np\n",
        "import pandas as pd\n",
        "import warnings\n",
        "warnings.filterwarnings('ignore')\n",
        "\n",
        "# Load in the r magic\n",
        "%reload_ext rpy2.ipython\n",
        "%config IPCompleter.greedy=True\n",
        "%config InlineBackend.figure_format = 'retina'\n"
      ],
      "execution_count": 0,
      "outputs": []
    },
    {
      "cell_type": "code",
      "metadata": {
        "id": "6C9B5xfOwblU",
        "colab_type": "code",
        "colab": {}
      },
      "source": [
        "%%R\n",
        "#Instalamos las bibliotecas que utilizaremos\n",
        "install.packages(\"MPDiR\")    # Donde estan los datos Chromatic\n",
        "install.packages(\"dplyr\")    # Para manipulación de datos\n",
        "install.packages(\"ggplot2\")  # Para poder gráficar\n",
        "install.packages(\"lattice\")  # Para poder graficar xyplot y condicionados\n",
        "install.packages(\"readxl\")   # Para abrir archivos en excel\n",
        "install.packages(\"MASS\")     # Para hacer regresiones de tipo binomial negativa\n",
        "install.packages(\"caret\")\n",
        "install.packages(\"caret\")    # Permite evaluar los modelos de regresion\n",
        "install.packages(\"plotly\")   # Para hacer gráficos dinámicos\n",
        "install.packages(\"mlbench\")  # Permite obtener los datos de Sonar\n",
        "install.packages(\"e1071\")    # Solucion error caret\n",
        "install.packages(\"caTools\")  # Permite calcular el score AUC de la Curva ROC\n",
        "install.packages(\"matlib\")\n",
        "install.packages(\"aod\")\n",
        "install.packages(\"sampling\")\n",
        "install.packages(\"psych\")\n",
        "install.packages(\"boot\")\n",
        "install.packages(\"GGally\")\n",
        "\n",
        "#  Muestreo\n",
        "install.packages(\"splitstackshape\")\n",
        "\n",
        "install.packages(\"corrplot\")\n"
      ],
      "execution_count": 0,
      "outputs": []
    },
    {
      "cell_type": "code",
      "metadata": {
        "id": "HONPZAwoxKdD",
        "colab_type": "code",
        "colab": {}
      },
      "source": [
        "%%R\n",
        "library(MPDiR)    # Donde estan los datos Chromatic\n",
        "library(dplyr)    # Para manipulación de datos\n",
        "library(ggplot2)  # Para poder gráficar\n",
        "library(lattice)  # Para poder graficar xyplot y condicionados\n",
        "library(readxl)   # Para abrir archivos en excel\n",
        "library(MASS)     # Para hacer regresiones de tipo binomial negativa\n",
        "library(caret)\n",
        "library(caret)    # Permite evaluar los modelos de regresion\n",
        "library(plotly)   # Para hacer gráficos dinámicos\n",
        "library(mlbench)  # Permite obtener los datos de Sonar\n",
        "library(e1071)    # Solucion error caret\n",
        "library(caTools)  # Permite calcular el score AUC de la Curva ROC\n",
        "library(matlib)\n",
        "library(aod)\n",
        "library(sampling)\n",
        "library(psych)\n",
        "library(boot)\n",
        "library(GGally)\n",
        "#  Muestreo\n",
        "library(splitstackshape)\n",
        "\n",
        "library(\"corrplot\")"
      ],
      "execution_count": 0,
      "outputs": []
    },
    {
      "cell_type": "code",
      "metadata": {
        "id": "ccmzW0UHxPGl",
        "colab_type": "code",
        "colab": {
          "base_uri": "https://localhost:8080/",
          "height": 199
        },
        "outputId": "6ba73852-81d3-456c-f93e-e963fee5e95f"
      },
      "source": [
        "%%R\n",
        "# Leo los datos del archivo\n",
        "# personas <- read.csv(\"/content/Seminario/data/interrupcion-legal-del-embarazo.csv\", header=T, na.strings=c(\"\",\"NA\"), sep=\",\", stringsAsFactors=FALSE)\n",
        "personas <- read.csv(\"/content/Seminario/data/interrupcion-legal-del-embarazo.csv\")\n",
        "str(personas)\n",
        "\n",
        "# summary(personas)\n",
        "head(personas)\n"
      ],
      "execution_count": 41,
      "outputs": [
        {
          "output_type": "display_data",
          "data": {
            "text/plain": [
              "'data.frame':\t9084 obs. of  1 variable:\n",
              " $ CVE_HOSPITAL.FINGRESO.EDOCIVIL_DESCRIPCION.EDAD.MENARCA.FSEXUAL.SEMEMB.NHIJOS.GESTA.NABORTO.NPARTOS.NCESAREA.NILE.C_NUM: Factor w/ 9078 levels \"1;01/02/19;soltera;18;12;15;10;0;1;0;0;0;0;2\",..: 1603 1623 1622 1666 1664 1707 1726 1751 1812 1809 ...\n",
              "  CVE_HOSPITAL.FINGRESO.EDOCIVIL_DESCRIPCION.EDAD.MENARCA.FSEXUAL.SEMEMB.NHIJOS.GESTA.NABORTO.NPARTOS.NCESAREA.NILE.C_NUM\n",
              "1                                                                            12;03/01/18;soltera;25;15;19;6;0;2;1;0;0;0;2\n",
              "2                                                                        12;04/01/19;unión libre;33;13;21;9;2;3;0;1;1;0;1\n",
              "3                                                                        12;04/01/19;unión libre;25;14;20;8;0;1;0;0;0;0;1\n",
              "4                                                                            12;07/01/18;soltera;25;14;16;5;1;2;0;1;0;0;2\n",
              "5                                                                            12;07/01/18;separada;25;9;16;7;2;3;0;2;0;0;2\n",
              "6                                                                            12;09/01/18;soltera;22;12;18;8;0;1;0;0;0;0;2\n"
            ]
          },
          "metadata": {
            "tags": []
          }
        }
      ]
    },
    {
      "cell_type": "code",
      "metadata": {
        "id": "-ps5ElXtQWUR",
        "colab_type": "code",
        "colab": {
          "base_uri": "https://localhost:8080/",
          "height": 497
        },
        "outputId": "216e3678-d8c3-4d63-a260-bfca6f82aab6"
      },
      "source": [
        "%%R\n",
        "# quien sabe que pase al querer hacer plot\n",
        "plot(personas)\n",
        "# Error in plot.window(...) : need finite 'xlim' values\n",
        "\n",
        "# Se genera un modelo en base a las columnas\n",
        "# EDAD, SEMEMB, NHIJOS, NABORTO, NPARTOS\n",
        "# modelo <- lm(CVE_HOSPITAL~EDAD+SEMEMB, data = personas)\n",
        "# summary(modelo)"
      ],
      "execution_count": 42,
      "outputs": [
        {
          "output_type": "display_data",
          "data": {
            "image/png": "[encoded data removed]"
          },
          "metadata": {
            "tags": []
          }
        }
      ]
    }
  ]
}