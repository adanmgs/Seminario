
Carga información de Github
In [1]:
try:
    !rm -rf CursoDF
except:
    print("No existe la ruta aún")

!git clone "https://github.com/pikey-msc/CursoDF"
Cloning into 'CursoDF'...
remote: Enumerating objects: 65, done.
remote: Counting objects: 100% (65/65), done.
remote: Compressing objects: 100% (65/65), done.
remote: Total 183 (delta 33), reused 0 (delta 0), pack-reused 118
Receiving objects: 100% (183/183), 15.87 MiB | 22.70 MiB/s, done.
Resolving deltas: 100% (80/80), done.
