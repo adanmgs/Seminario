{
  "nbformat": 4,
  "nbformat_minor": 0,
  "metadata": {
    "colab": {
      "name": "Untitled0.ipynb",
      "provenance": [],
      "toc_visible": true,
      "include_colab_link": true
    },
    "kernelspec": {
      "name": "python3",
      "display_name": "Python 3"
    }
  },
  "cells": [
    {
      "cell_type": "markdown",
      "metadata": {
        "id": "view-in-github",
        "colab_type": "text"
      },
      "source": [
        "<a href=\"https://colab.research.google.com/github/adanmgs/CursoDF/blob/master/M_Practica.ipynb\" target=\"_parent\"><img src=\"https://colab.research.google.com/assets/colab-badge.svg\" alt=\"Open In Colab\"/></a>"
      ]
    },
    {
      "cell_type": "markdown",
      "metadata": {
        "id": "RtzqcCGn3oDs",
        "colab_type": "text"
      },
      "source": [
        "# Carga de archivos (github)"
      ]
    },
    {
      "cell_type": "markdown",
      "metadata": {
        "id": "mRwfY4vY3clr",
        "colab_type": "text"
      },
      "source": [
        "**Carga de archvios (github)**\n"
      ]
    },
    {
      "cell_type": "code",
      "metadata": {
        "id": "dZ2pvQ783Px4",
        "colab_type": "code",
        "colab": {}
      },
      "source": [
        "try:\n",
        "    !rm -rf CursoPracticaDF\n",
        "except:\n",
        "    print(\"No existe la ruta aún\")\n",
        "\n",
        "!git clone \"https://github.com/adanmgs/CursoDF\""
      ],
      "execution_count": 0,
      "outputs": []
    },
    {
      "cell_type": "markdown",
      "metadata": {
        "id": "KHA9p1o23x60",
        "colab_type": "text"
      },
      "source": [
        "# Sección nueva"
      ]
    }
  ]
}